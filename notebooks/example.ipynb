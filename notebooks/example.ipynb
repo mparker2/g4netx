{
 "cells": [
  {
   "cell_type": "markdown",
   "metadata": {},
   "source": [
    "# New Notebook\n",
    "\n",
    "Whats this notebook about?"
   ]
  },
  {
   "cell_type": "code",
   "execution_count": 1,
   "metadata": {},
   "outputs": [
    {
     "data": {
      "image/png": "[encoded data removed]",
      "text/plain": [
       "<matplotlib.figure.Figure at 0x7fa2158d35c0>"
      ]
     },
     "metadata": {},
     "output_type": "display_data"
    }
   ],
   "source": [
    "import sys\n",
    "import os\n",
    "from glob import glob\n",
    "import re\n",
    "import regex\n",
    "\n",
    "import numpy as np\n",
    "import pandas as pd\n",
    "from scipy import stats\n",
    "import matplotlib.pyplot as plt\n",
    "from matplotlib.colors import ListedColormap\n",
    "import seaborn as sns\n",
    "\n",
    "from g4netx import g4netx\n",
    "\n",
    "from Bio.SeqIO import parse\n",
    "\n",
    "## Default plotting params\n",
    "\n",
    "%matplotlib inline\n",
    "sns.set(font='Arial')\n",
    "plt.rcParams['svg.fonttype'] = 'none'\n",
    "style = sns.axes_style('white')\n",
    "style.update(sns.axes_style('ticks'))\n",
    "style['xtick.major.size'] = 2\n",
    "style['ytick.major.size'] = 2\n",
    "sns.set(font_scale=2, style=style)\n",
    "pal = sns.color_palette(['#0072b2', '#d55e00', '#009e73', '#f0e442', '#cc79a7'])\n",
    "cmap = ListedColormap(pal.as_hex())\n",
    "sns.set_palette(pal)\n",
    "sns.palplot(pal)\n",
    "plt.show()"
   ]
  },
  {
   "cell_type": "code",
   "execution_count": 2,
   "metadata": {},
   "outputs": [],
   "source": [
    "# this sequence can form quite a few different quadruplexes\n",
    "seq = 'GGGGAAGGGTTGGGCCGGGATGGGCTGGG'"
   ]
  },
  {
   "cell_type": "code",
   "execution_count": 3,
   "metadata": {},
   "outputs": [
    {
     "name": "stdout",
     "output_type": "stream",
     "text": [
      "GGGGAAGGGTTGGGCCGGG\n",
      "[(0, 3), (6, 9), (11, 14), (16, 19)]\n"
     ]
    }
   ],
   "source": [
    "def groupspans(match):\n",
    "    return [match.span(i) for i in range(1, 5)]\n",
    "\n",
    "# re only finds one here because it consumes the string as it searches\n",
    "g4_pattern = r'(GGG)[ACGT]{1,7}?(GGG)[ACGT]{1,7}?(GGG)[ACGT]{1,7}?(GGG)'\n",
    "for m in re.finditer(g4_pattern, seq):\n",
    "    print(m.group(0))\n",
    "    print(groupspans(m))"
   ]
  },
  {
   "cell_type": "code",
   "execution_count": 4,
   "metadata": {},
   "outputs": [
    {
     "name": "stdout",
     "output_type": "stream",
     "text": [
      "GGGGAAGGGTTGGGCCGGG\n",
      "[(0, 3), (6, 9), (11, 14), (16, 19)]\n",
      "GGGAAGGGTTGGGCCGGG\n",
      "[(1, 4), (6, 9), (11, 14), (16, 19)]\n",
      "GGGTTGGGCCGGGATGGG\n",
      "[(6, 9), (11, 14), (16, 19), (21, 24)]\n",
      "GGGCCGGGATGGGCTGGG\n",
      "[(11, 14), (16, 19), (21, 24), (26, 29)]\n"
     ]
    }
   ],
   "source": [
    "# if we use the newer regex module with non-overlapping regexes,\n",
    "# we can get more, but still only one per position:\n",
    "for m in regex.finditer(g4_pattern, seq, overlapped=True):\n",
    "    print(m.group(0))\n",
    "    print(groupspans(m))"
   ]
  },
  {
   "cell_type": "code",
   "execution_count": 11,
   "metadata": {},
   "outputs": [
    {
     "name": "stdout",
     "output_type": "stream",
     "text": [
      "GGGGAAGGGTTGGGCCGGG\n",
      "[(0, 3), (6, 9), (11, 14), (16, 19)]\n",
      "GGGGAAGGGTTGGGCCGGGATGGG\n",
      "[(0, 3), (6, 9), (11, 14), (21, 24)]\n",
      "GGGGAAGGGTTGGGCCGGGATGGG\n",
      "[(0, 3), (6, 9), (16, 19), (21, 24)]\n",
      "GGGGAAGGGTTGGGCCGGGATGGGCTGGG\n",
      "[(0, 3), (6, 9), (16, 19), (26, 29)]\n",
      "GGGAAGGGTTGGGCCGGG\n",
      "[(1, 4), (6, 9), (11, 14), (16, 19)]\n",
      "GGGAAGGGTTGGGCCGGGATGGG\n",
      "[(1, 4), (6, 9), (11, 14), (21, 24)]\n",
      "GGGAAGGGTTGGGCCGGGATGGG\n",
      "[(1, 4), (6, 9), (16, 19), (21, 24)]\n",
      "GGGAAGGGTTGGGCCGGGATGGGCTGGG\n",
      "[(1, 4), (6, 9), (16, 19), (26, 29)]\n",
      "GGGAAGGGTTGGGCCGGGATGGG\n",
      "[(1, 4), (11, 14), (16, 19), (21, 24)]\n",
      "GGGAAGGGTTGGGCCGGGATGGGCTGGG\n",
      "[(1, 4), (11, 14), (16, 19), (26, 29)]\n",
      "GGGAAGGGTTGGGCCGGGATGGGCTGGG\n",
      "[(1, 4), (11, 14), (21, 24), (26, 29)]\n",
      "GGGTTGGGCCGGGATGGG\n",
      "[(6, 9), (11, 14), (16, 19), (21, 24)]\n",
      "GGGTTGGGCCGGGATGGGCTGGG\n",
      "[(6, 9), (11, 14), (16, 19), (26, 29)]\n",
      "GGGTTGGGCCGGGATGGGCTGGG\n",
      "[(6, 9), (11, 14), (21, 24), (26, 29)]\n",
      "GGGTTGGGCCGGGATGGGCTGGG\n",
      "[(6, 9), (16, 19), (21, 24), (26, 29)]\n",
      "GGGCCGGGATGGGCTGGG\n",
      "[(11, 14), (16, 19), (21, 24), (26, 29)]\n"
     ]
    }
   ],
   "source": [
    "# g4netx uses network analysis to find all possible g4s\n",
    "for m, strand in sorted(g4netx(seq, run_length=3), key=lambda x: [i[0] for i in x[0]]):\n",
    "    print(seq[m[0][0]:m[-1][1]])\n",
    "    print(m)"
   ]
  },
  {
   "cell_type": "code",
   "execution_count": 7,
   "metadata": {},
   "outputs": [
    {
     "name": "stdout",
     "output_type": "stream",
     "text": [
      "13079\n",
      "13079\n",
      "13079\n",
      "8.34 s ± 7.6 ms per loop (mean ± std. dev. of 3 runs, 1 loop each)\n"
     ]
    }
   ],
   "source": [
    "%%timeit -n 1 -r 3\n",
    "with open('/home/matthew/Documents/genomes/tair10/fasta/tair10_genome.fa') as f:\n",
    "    pg4_count = 0\n",
    "    for record in parse(f, 'fasta'):\n",
    "        for pg4 in g4netx(str(record.seq), run_length=3):\n",
    "            pg4_count += 1"
   ]
  },
  {
   "cell_type": "code",
   "execution_count": 79,
   "metadata": {},
   "outputs": [
    {
     "data": {
      "text/plain": [
       "[False, True]"
      ]
     },
     "execution_count": 79,
     "metadata": {},
     "output_type": "execute_result"
    }
   ],
   "source": [
    "BULGED_REGEX = create_bulged_regex(4, 5)\n",
    "\n",
    "seq = 'GGGGAG'\n",
    "\n",
    "[any(x.groups()) for x in re.finditer(BULGED_REGEX, seq)]"
   ]
  },
  {
   "cell_type": "code",
   "execution_count": null,
   "metadata": {},
   "outputs": [],
   "source": [
    "[x.group(0) for x in re.finditer(\n",
    "    '(?=G([ACT]{1,5})?G((?(1)|[]', seq)]"
   ]
  },
  {
   "cell_type": "code",
   "execution_count": 64,
   "metadata": {},
   "outputs": [
    {
     "name": "stdout",
     "output_type": "stream",
     "text": [
      "(?=G([ACT]{1,5})?G((?(1)|[ACT]{1,5}))?G)\n"
     ]
    }
   ],
   "source": [
    "print(BULGED_REGEX)"
   ]
  },
  {
   "cell_type": "code",
   "execution_count": 80,
   "metadata": {},
   "outputs": [],
   "source": [
    "import regex"
   ]
  },
  {
   "cell_type": "code",
   "execution_count": 89,
   "metadata": {},
   "outputs": [],
   "source": [
    "def create_bulged_regex(base, g_run_length, max_bulge_length):\n",
    "    if base == 'G':\n",
    "        bulge = '[ACT]{1,' + str(max_bulge_length) + '}'\n",
    "    else:\n",
    "        bulge = '[AGT]{1,' + str(max_bulge_length) + '}'\n",
    "    regex = base\n",
    "    bulge_backrefs = []\n",
    "    for i in range(1, g_run_length):\n",
    "        regex += '('\n",
    "        for j in bulge_backrefs:\n",
    "            regex += '(?(' + str(j) + ')|'\n",
    "        regex += bulge\n",
    "        regex += ')' * len(bulge_backrefs)\n",
    "        regex += ')?'\n",
    "        bulge_backrefs.append(i)\n",
    "        regex += base\n",
    "    return regex\n"
   ]
  },
  {
   "cell_type": "code",
   "execution_count": 94,
   "metadata": {},
   "outputs": [
    {
     "data": {
      "text/plain": [
       "[(4, 10), (8, 11), (9, 12)]"
      ]
     },
     "execution_count": 94,
     "metadata": {},
     "output_type": "execute_result"
    }
   ],
   "source": [
    "BULGED_REGEX = create_bulged_regex('G', 3, 5)\n",
    "\n",
    "seq = 'ATTTGTTTGGGGTTT'\n",
    "\n",
    "[x.span() for x in regex.finditer(BULGED_REGEX, seq, overlapped=True)]"
   ]
  },
  {
   "cell_type": "code",
   "execution_count": null,
   "metadata": {},
   "outputs": [],
   "source": []
  }
 ],
 "metadata": {
  "kernelspec": {
   "display_name": "Environment (conda_ml_python35)",
   "language": "python",
   "name": "conda_ml_python35"
  },
  "language_info": {
   "codemirror_mode": {
    "name": "ipython",
    "version": 3
   },
   "file_extension": ".py",
   "mimetype": "text/x-python",
   "name": "python",
   "nbconvert_exporter": "python",
   "pygments_lexer": "ipython3",
   "version": "3.5.4"
  }
 },
 "nbformat": 4,
 "nbformat_minor": 2
}
